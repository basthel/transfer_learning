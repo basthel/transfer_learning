{
 "cells": [
  {
   "cell_type": "markdown",
   "metadata": {
    "toc": "true"
   },
   "source": [
    "# Table of Contents\n",
    " <p><div class=\"lev1 toc-item\"><a href=\"#Test-Inception-V3-combined-with-SVM\" data-toc-modified-id=\"Test-Inception-V3-combined-with-SVM-1\"><span class=\"toc-item-num\">1&nbsp;&nbsp;</span>Test Inception-V3 combined with SVM</a></div><div class=\"lev2 toc-item\"><a href=\"#Image-from-np.array-to-jpeg-in-Bytes\" data-toc-modified-id=\"Image-from-np.array-to-jpeg-in-Bytes-11\"><span class=\"toc-item-num\">1.1&nbsp;&nbsp;</span>Image from np.array to jpeg in Bytes</a></div><div class=\"lev2 toc-item\"><a href=\"#Create-Graph-and-Test-Feature-Extraction\" data-toc-modified-id=\"Create-Graph-and-Test-Feature-Extraction-12\"><span class=\"toc-item-num\">1.2&nbsp;&nbsp;</span>Create Graph and Test Feature Extraction</a></div><div class=\"lev2 toc-item\"><a href=\"#Extract-Features-of-Dataset\" data-toc-modified-id=\"Extract-Features-of-Dataset-13\"><span class=\"toc-item-num\">1.3&nbsp;&nbsp;</span>Extract Features of Dataset</a></div><div class=\"lev3 toc-item\"><a href=\"#Save-Data\" data-toc-modified-id=\"Save-Data-131\"><span class=\"toc-item-num\">1.3.1&nbsp;&nbsp;</span>Save Data</a></div><div class=\"lev2 toc-item\"><a href=\"#Train-SVM\" data-toc-modified-id=\"Train-SVM-14\"><span class=\"toc-item-num\">1.4&nbsp;&nbsp;</span>Train SVM</a></div><div class=\"lev3 toc-item\"><a href=\"#Predict-Test-set\" data-toc-modified-id=\"Predict-Test-set-141\"><span class=\"toc-item-num\">1.4.1&nbsp;&nbsp;</span>Predict Test-set</a></div><div class=\"lev3 toc-item\"><a href=\"#Create-Confusion-Matrix\" data-toc-modified-id=\"Create-Confusion-Matrix-142\"><span class=\"toc-item-num\">1.4.2&nbsp;&nbsp;</span>Create Confusion Matrix</a></div><div class=\"lev1 toc-item\"><a href=\"#image-slicer\" data-toc-modified-id=\"image-slicer-2\"><span class=\"toc-item-num\">2&nbsp;&nbsp;</span>image slicer</a></div>"
   ]
  },
  {
   "cell_type": "markdown",
   "metadata": {},
   "source": [
    "# Test Inception-V3 combined with SVM "
   ]
  },
  {
   "cell_type": "code",
   "execution_count": 1,
   "metadata": {},
   "outputs": [
    {
     "name": "stderr",
     "output_type": "stream",
     "text": [
      "C:\\Users\\hes39444\\Desktop\\Incep0\\Inception\\lib\\site-packages\\sklearn\\cross_validation.py:41: DeprecationWarning: This module was deprecated in version 0.18 in favor of the model_selection module into which all the refactored classes and functions are moved. Also note that the interface of the new CV iterators are different from that of this module. This module will be removed in 0.20.\n",
      "  \"This module will be removed in 0.20.\", DeprecationWarning)\n"
     ]
    }
   ],
   "source": [
    "\n",
    "#https://www.kernix.com/blog/image-classification-with-a-pre-trained-deep-neural-network_p11\n",
    "#https://code.oursky.com/tensorflow-svm-image-classifications-engine/\n",
    "#http://oduerr.github.io/blog/2016/04/06/Deep-Learning_for_lazybones\n",
    "import os\n",
    "import re\n",
    "import tensorflow as tf\n",
    "import tensorflow.python.platform\n",
    "from tensorflow.python.platform import gfile\n",
    "import numpy as np\n",
    "import pandas as pd\n",
    "import sklearn\n",
    "from sklearn import cross_validation\n",
    "from sklearn.metrics import accuracy_score, confusion_matrix\n",
    "from sklearn.svm import SVC, LinearSVC\n",
    "import matplotlib.pyplot as plt\n",
    "import pickle\n",
    "%matplotlib inline"
   ]
  },
  {
   "cell_type": "code",
   "execution_count": 2,
   "metadata": {},
   "outputs": [],
   "source": [
    "model_dir = '/models/tutorials/image/imagenet/'\n",
    "img_dir = '/imagesTrain/'\n",
    "list_images = [img_dir+f for f in os.listdir(img_dir) if re.search('jpg|JPG', f)]\n",
    "#print(list_images)"
   ]
  },
  {
   "cell_type": "code",
   "execution_count": 3,
   "metadata": {
    "collapsed": true
   },
   "outputs": [],
   "source": [
    "def create_graph():\n",
    "    with gfile.FastGFile(os.path.join(model_dir,'classify_image_graph_def.pb'),'rb') as f:\n",
    "        graph_def = tf.GraphDef()\n",
    "        graph_def.ParseFromString(f.read())\n",
    "        _=tf.import_graph_def(graph_def,name='')"
   ]
  },
  {
   "cell_type": "code",
   "execution_count": 4,
   "metadata": {
    "collapsed": true
   },
   "outputs": [],
   "source": [
    "def extract_features(list_images):\n",
    "    nb_features = 2048\n",
    "    features = np.empty((len(list_images),nb_features))\n",
    "    labels=[]\n",
    "    create_graph()\n",
    "    with tf.Session() as sess:\n",
    "        next_to_last_tensor = sess.graph.get_tensor_by_name('pool_3:0')\n",
    "        for ind, image in enumerate(list_images):\n",
    "            if not gfile.Exists(image):\n",
    "                tf.logging.fatal('File does not exist %s',image)\n",
    "            image_data = gfile.FastGFile(image,'rb').read()\n",
    "            predictions = sess.run(next_to_last_tensor,{'DecodeJpeg/contents:0':image_data})\n",
    "            features[ind,:] = np.squeeze(predictions)\n",
    "            labels.append(re.split('_\\d+',image.split('/')[6])[0])\n",
    "            #labels.append('pumpe')\n",
    "    return features, labels           "
   ]
  },
  {
   "cell_type": "markdown",
   "metadata": {},
   "source": [
    "## Image from np.array to jpeg in Bytes"
   ]
  },
  {
   "cell_type": "code",
   "execution_count": 5,
   "metadata": {},
   "outputs": [
    {
     "name": "stdout",
     "output_type": "stream",
     "text": [
      "<PIL.Image.Image image mode=RGB size=100x100 at 0x2D25D828>\n"
     ]
    }
   ],
   "source": [
    "from PIL import Image\n",
    "img = Image.fromarray(np.uint8(np.random.randn(100,100,3)))\n",
    "print(img)\n",
    "#print(img.tobytes('jpeg', 'RGB'))"
   ]
  },
  {
   "cell_type": "markdown",
   "metadata": {},
   "source": [
    "## Create Graph and Test Feature Extraction"
   ]
  },
  {
   "cell_type": "code",
   "execution_count": 6,
   "metadata": {},
   "outputs": [
    {
     "data": {
      "text/plain": [
       "array([[[[ 0.9087944 ,  0.        ,  0.04996346, ...,  0.42032564,\n",
       "           0.04699313,  0.14475003]]]], dtype=float32)"
      ]
     },
     "execution_count": 6,
     "metadata": {},
     "output_type": "execute_result"
    }
   ],
   "source": [
    "create_graph()\n",
    "sess = tf.Session()\n",
    "test = Image.fromarray(np.zeros((200, 300, 3), dtype=np.uint8)).tobytes('jpeg','RGB')\n",
    "next_to_last_tensor = sess.graph.get_tensor_by_name('pool_3:0')\n",
    "predictions = sess.run(next_to_last_tensor,{'DecodeJpeg/contents:0':test})\n",
    "predictions"
   ]
  },
  {
   "cell_type": "code",
   "execution_count": 7,
   "metadata": {},
   "outputs": [
    {
     "name": "stdout",
     "output_type": "stream",
     "text": [
      "[[[[ 0.9087944   0.          0.04996346 ...,  0.42032564  0.04699313\n",
      "     0.14475003]]]]\n",
      "Wall time: 282 ms\n"
     ]
    }
   ],
   "source": [
    "%%time\n",
    "print(sess.run(next_to_last_tensor,{'DecodeJpeg/contents:0':test}))\n"
   ]
  },
  {
   "cell_type": "markdown",
   "metadata": {},
   "source": [
    "## Extract Features of Dataset\n"
   ]
  },
  {
   "cell_type": "code",
   "execution_count": 8,
   "metadata": {},
   "outputs": [
    {
     "name": "stdout",
     "output_type": "stream",
     "text": [
      "Wall time: 4min 30s\n"
     ]
    }
   ],
   "source": [
    "%%time\n",
    "features,labels= extract_features(list_images)"
   ]
  },
  {
   "cell_type": "code",
   "execution_count": 9,
   "metadata": {
    "scrolled": true
   },
   "outputs": [
    {
     "name": "stdout",
     "output_type": "stream",
     "text": [
      "(990, 2048)\n",
      "[ 0.56384283  0.07290962  0.94232893  0.281748    0.08541837  0.08482139\n",
      "  0.40826124  0.46673113  0.3121967   0.6281423 ]\n"
     ]
    }
   ],
   "source": [
    "print(features.shape)\n",
    "print(features[4,0:10])\n",
    "#print(labels)"
   ]
  },
  {
   "cell_type": "markdown",
   "metadata": {},
   "source": [
    "### Save Data"
   ]
  },
  {
   "cell_type": "code",
   "execution_count": 10,
   "metadata": {
    "collapsed": true
   },
   "outputs": [],
   "source": [
    "#pickle.dump(features, open('features', 'wb'))\n",
    "#pickle.dump(labels, open('labels', 'wb'))\n",
    "\n",
    "\n",
    "with open('features.pickle', 'w+b') as fp:\n",
    "            p = pickle.dump(features, fp)\n",
    "with open('labels.pickle', 'w+b') as fp:\n",
    "            p = pickle.dump(labels, fp)"
   ]
  },
  {
   "cell_type": "code",
   "execution_count": 12,
   "metadata": {},
   "outputs": [
    {
     "data": {
      "text/plain": [
       "array([ 0.56384283,  0.07290962,  0.94232893,  0.281748  ,  0.08541837,\n",
       "        0.08482139,  0.40826124,  0.46673113,  0.3121967 ,  0.6281423 ])"
      ]
     },
     "execution_count": 12,
     "metadata": {},
     "output_type": "execute_result"
    }
   ],
   "source": [
    "features = pickle.load(open('features.pickle', 'rb'))\n",
    "labels = pickle.load(open('labels.pickle', 'rb'))\n",
    "#print(labels)\n",
    "features[4,0:10]"
   ]
  },
  {
   "cell_type": "markdown",
   "metadata": {},
   "source": [
    "## Train SVM"
   ]
  },
  {
   "cell_type": "code",
   "execution_count": 13,
   "metadata": {
    "collapsed": true
   },
   "outputs": [],
   "source": [
    "X_train, X_test, y_train, y_test = cross_validation.train_test_split(features, labels, test_size=0.01, random_state=42)"
   ]
  },
  {
   "cell_type": "code",
   "execution_count": 14,
   "metadata": {},
   "outputs": [],
   "source": [
    "# for el in X_train[5,:]:\n",
    "#     if el != 0 :\n",
    "#         print(el)"
   ]
  },
  {
   "cell_type": "code",
   "execution_count": 15,
   "metadata": {},
   "outputs": [
    {
     "name": "stdout",
     "output_type": "stream",
     "text": [
      "Wall time: 3.04 s\n"
     ]
    }
   ],
   "source": [
    "%%time\n",
    "clf = LinearSVC(C=1.0, loss='squared_hinge', penalty='l2',multi_class='ovr')\n",
    "clf.fit(X_train, y_train)\n"
   ]
  },
  {
   "cell_type": "code",
   "execution_count": 16,
   "metadata": {},
   "outputs": [
    {
     "data": {
      "text/plain": [
       "(10, 2048)"
      ]
     },
     "execution_count": 16,
     "metadata": {},
     "output_type": "execute_result"
    }
   ],
   "source": [
    "X_test.shape"
   ]
  },
  {
   "cell_type": "markdown",
   "metadata": {},
   "source": [
    "### Predict Test-set"
   ]
  },
  {
   "cell_type": "code",
   "execution_count": 17,
   "metadata": {},
   "outputs": [
    {
     "name": "stdout",
     "output_type": "stream",
     "text": [
      "Wall time: 0 ns\n"
     ]
    }
   ],
   "source": [
    "%%time\n",
    "y_pred = clf.predict(X_test)"
   ]
  },
  {
   "cell_type": "markdown",
   "metadata": {},
   "source": [
    "### Create Confusion Matrix"
   ]
  },
  {
   "cell_type": "code",
   "execution_count": 39,
   "metadata": {
    "collapsed": true,
    "scrolled": true
   },
   "outputs": [],
   "source": [
    "def plot_confusion_matrix(y_true,y_pred):\n",
    "    cm_array = confusion_matrix(y_true,y_pred)\n",
    "    true_labels = np.unique(y_true)\n",
    "    pred_labels = np.unique(y_pred)\n",
    "    plt.imshow(cm_array[:,:], interpolation='nearest', cmap=plt.cm.Blues)\n",
    "    plt.title(\"Confusion matrix\", fontsize=16)\n",
    "    cbar = plt.colorbar(fraction=0.046, pad=0.04)\n",
    "    cbar.set_label('Number of images', rotation=270, labelpad=30, fontsize=12)\n",
    "    xtick_marks = np.arange(len(true_labels))\n",
    "    ytick_marks = np.arange(len(pred_labels))\n",
    "    plt.xticks(xtick_marks, true_labels, rotation=90)\n",
    "    plt.yticks(ytick_marks,pred_labels)\n",
    "    plt.tight_layout()\n",
    "    plt.ylabel('True label', fontsize=14)\n",
    "    plt.xlabel('Predicted label', fontsize=14)\n",
    "    fig_size = plt.rcParams[\"figure.figsize\"]\n",
    "    fig_size[0] = 15\n",
    "    fig_size[1] = 12\n",
    "    plt.rcParams[\"figure.figsize\"] = fig_size"
   ]
  },
  {
   "cell_type": "code",
   "execution_count": 40,
   "metadata": {
    "scrolled": false
   },
   "outputs": [
    {
     "name": "stdout",
     "output_type": "stream",
     "text": [
      "Accuracy: 100.0%\n"
     ]
    },
    {
     "data": {
      "image/png": "[encoded data removed]",
      "text/plain": [
       "<Figure size 1080x864 with 2 Axes>"
      ]
     },
     "metadata": {},
     "output_type": "display_data"
    }
   ],
   "source": [
    "print(\"Accuracy: {0:0.1f}%\".format(accuracy_score(y_test,y_pred)*100))\n",
    "plot_confusion_matrix(y_test,y_pred)"
   ]
  }
 ],
 "metadata": {
  "kernelspec": {
   "display_name": "Inception",
   "language": "python",
   "name": "inception"
  },
  "language_info": {
   "codemirror_mode": {
    "name": "ipython",
    "version": 3
   },
   "file_extension": ".py",
   "mimetype": "text/x-python",
   "name": "python",
   "nbconvert_exporter": "python",
   "pygments_lexer": "ipython3",
   "version": "3.6.3"
  },
  "toc": {
   "colors": {
    "hover_highlight": "#DAA520",
    "navigate_num": "#000000",
    "navigate_text": "#333333",
    "running_highlight": "#FF0000",
    "selected_highlight": "#FFD700",
    "sidebar_border": "#EEEEEE",
    "wrapper_background": "#FFFFFF"
   },
   "moveMenuLeft": true,
   "nav_menu": {
    "height": "12px",
    "width": "252px"
   },
   "navigate_menu": true,
   "number_sections": true,
   "sideBar": true,
   "threshold": 4,
   "toc_cell": true,
   "toc_section_display": "block",
   "toc_window_display": false,
   "widenNotebook": false
  },
  "varInspector": {
   "cols": {
    "lenName": 16,
    "lenType": 16,
    "lenVar": 40
   },
   "kernels_config": {
    "python": {
     "delete_cmd_postfix": "",
     "delete_cmd_prefix": "del ",
     "library": "var_list.py",
     "varRefreshCmd": "print(var_dic_list())"
    },
    "r": {
     "delete_cmd_postfix": ") ",
     "delete_cmd_prefix": "rm(",
     "library": "var_list.r",
     "varRefreshCmd": "cat(var_dic_list()) "
    }
   },
   "types_to_exclude": [
    "module",
    "function",
    "builtin_function_or_method",
    "instance",
    "_Feature"
   ],
   "window_display": false
  }
 },
 "nbformat": 4,
 "nbformat_minor": 2
}
