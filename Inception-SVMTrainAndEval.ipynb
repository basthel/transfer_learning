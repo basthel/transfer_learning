{
 "cells": [
  {
   "cell_type": "markdown",
   "metadata": {
    "toc": "true"
   },
   "source": [
    "# Table of Contents\n",
    " <p><div class=\"lev1 toc-item\"><a href=\"#Test-Inception-V3-combined-with-SVM\" data-toc-modified-id=\"Test-Inception-V3-combined-with-SVM-1\"><span class=\"toc-item-num\">1&nbsp;&nbsp;</span>Test Inception-V3 combined with SVM</a></div><div class=\"lev2 toc-item\"><a href=\"#Image-from-np.array-to-jpeg-in-Bytes\" data-toc-modified-id=\"Image-from-np.array-to-jpeg-in-Bytes-11\"><span class=\"toc-item-num\">1.1&nbsp;&nbsp;</span>Image from np.array to jpeg in Bytes</a></div><div class=\"lev2 toc-item\"><a href=\"#Create-Graph-and-Test-Feature-Extraction\" data-toc-modified-id=\"Create-Graph-and-Test-Feature-Extraction-12\"><span class=\"toc-item-num\">1.2&nbsp;&nbsp;</span>Create Graph and Test Feature Extraction</a></div><div class=\"lev2 toc-item\"><a href=\"#Extract-Features-of-Dataset\" data-toc-modified-id=\"Extract-Features-of-Dataset-13\"><span class=\"toc-item-num\">1.3&nbsp;&nbsp;</span>Extract Features of Dataset</a></div><div class=\"lev3 toc-item\"><a href=\"#Save-Data\" data-toc-modified-id=\"Save-Data-131\"><span class=\"toc-item-num\">1.3.1&nbsp;&nbsp;</span>Save Data</a></div><div class=\"lev2 toc-item\"><a href=\"#Train-SVM\" data-toc-modified-id=\"Train-SVM-14\"><span class=\"toc-item-num\">1.4&nbsp;&nbsp;</span>Train SVM</a></div><div class=\"lev3 toc-item\"><a href=\"#Predict-Test-set\" data-toc-modified-id=\"Predict-Test-set-141\"><span class=\"toc-item-num\">1.4.1&nbsp;&nbsp;</span>Predict Test-set</a></div><div class=\"lev3 toc-item\"><a href=\"#Create-Confusion-Matrix\" data-toc-modified-id=\"Create-Confusion-Matrix-142\"><span class=\"toc-item-num\">1.4.2&nbsp;&nbsp;</span>Create Confusion Matrix</a></div><div class=\"lev1 toc-item\"><a href=\"#image-slicer\" data-toc-modified-id=\"image-slicer-2\"><span class=\"toc-item-num\">2&nbsp;&nbsp;</span>image slicer</a></div>"
   ]
  },
  {
   "cell_type": "markdown",
   "metadata": {},
   "source": [
    "# Test Inception-V3 combined with SVM "
   ]
  },
  {
   "cell_type": "code",
   "execution_count": 1,
   "metadata": {},
   "outputs": [
    {
     "name": "stderr",
     "output_type": "stream",
     "text": [
      "Desktop\\Incep0\\Inception\\lib\\site-packages\\sklearn\\cross_validation.py:41: DeprecationWarning: This module was deprecated in version 0.18 in favor of the model_selection module into which all the refactored classes and functions are moved. Also note that the interface of the new CV iterators are different from that of this module. This module will be removed in 0.20.\n",
      "  \"This module will be removed in 0.20.\", DeprecationWarning)\n"
     ]
    }
   ],
   "source": [
    "\n",
    "#https://www.kernix.com/blog/image-classification-with-a-pre-trained-deep-neural-network_p11\n",
    "#https://code.oursky.com/tensorflow-svm-image-classifications-engine/\n",
    "#http://oduerr.github.io/blog/2016/04/06/Deep-Learning_for_lazybones\n",
    "import os\n",
    "import re\n",
    "import tensorflow as tf\n",
    "import tensorflow.python.platform\n",
    "from tensorflow.python.platform import gfile\n",
    "import numpy as np\n",
    "import pandas as pd\n",
    "import sklearn\n",
    "from sklearn import cross_validation\n",
    "from sklearn.metrics import accuracy_score, confusion_matrix\n",
    "from sklearn.svm import SVC, LinearSVC\n",
    "import matplotlib.pyplot as plt\n",
    "import pickle\n",
    "%matplotlib inline"
   ]
  },
  {
   "cell_type": "code",
   "execution_count": 5,
   "metadata": {},
   "outputs": [
    {
     "name": "stdout",
     "output_type": "stream",
     "text": [
         ]
    }
   ],
   "source": [
    "model_dir = 'C:/Users/hes39444/Desktop/Incep0/models/tutorials/image/imagenet/'\n",
    "img_dir = 'C:/Users/hes39444/Desktop/Incep0/imagesTrain/'\n",
    "list_images = [img_dir+f for f in os.listdir(img_dir) if re.search('jpg|JPG', f)]\n",
    "print(list_images)"
   ]
  },
  {
   "cell_type": "code",
   "execution_count": 2,
   "metadata": {
    "collapsed": true
   },
   "outputs": [],
   "source": [
    "def create_graph():\n",
    "    with gfile.FastGFile(os.path.join(model_dir,'classify_image_graph_def.pb'),'rb') as f:\n",
    "        graph_def = tf.GraphDef()\n",
    "        graph_def.ParseFromString(f.read())\n",
    "        _=tf.import_graph_def(graph_def,name='')"
   ]
  },
  {
   "cell_type": "code",
   "execution_count": 3,
   "metadata": {
    "collapsed": true
   },
   "outputs": [],
   "source": [
    "def extract_features(list_images):\n",
    "    nb_features = 2048\n",
    "    features = np.empty((len(list_images),nb_features))\n",
    "    labels=[]\n",
    "    create_graph()\n",
    "    with tf.Session() as sess:\n",
    "        next_to_last_tensor = sess.graph.get_tensor_by_name('pool_3:0')\n",
    "        for ind, image in enumerate(list_images):\n",
    "            if not gfile.Exists(image):\n",
    "                tf.logging.fatal('File does not exist %s',image)\n",
    "            image_data = gfile.FastGFile(image,'rb').read()\n",
    "            predictions = sess.run(next_to_last_tensor,{'DecodeJpeg/contents:0':image_data})\n",
    "            features[ind,:] = np.squeeze(predictions)\n",
    "            labels.append(re.split('_\\d+',image.split('/')[6])[0])\n",
    "            #labels.append('pumpe')\n",
    "    return features, labels           "
   ]
  },
  {
   "cell_type": "markdown",
   "metadata": {},
   "source": [
    "## Image from np.array to jpeg in Bytes"
   ]
  },
  {
   "cell_type": "code",
   "execution_count": 26,
   "metadata": {},
   "outputs": [
    {
     "name": "stdout",
     "output_type": "stream",
     "text": [
      "<PIL.Image.Image image mode=RGB size=100x100 at 0x302EDDD8>\n",
      "b'\\xff\\xd8\\xff\\xe0\\x00\\x10JFIF\\x00\\x"
     ]
    }
   ],
   "source": [
    "from PIL import Image\n",
    "img = Image.fromarray(np.uint8(np.random.randn(100,100,3)))\n",
    "print(img)\n",
    "print(img.tobytes('jpeg', 'RGB'))"
   ]
  },
  {
   "cell_type": "markdown",
   "metadata": {},
   "source": [
    "## Create Graph and Test Feature Extraction"
   ]
  },
  {
   "cell_type": "code",
   "execution_count": 29,
   "metadata": {},
   "outputs": [
    {
     "data": {
      "text/plain": [
       "array([[[[ 0.9087944 ,  0.        ,  0.04996346, ...,  0.42032564,\n",
       "           0.04699313,  0.14475003]]]], dtype=float32)"
      ]
     },
     "execution_count": 29,
     "metadata": {},
     "output_type": "execute_result"
    }
   ],
   "source": [
    "create_graph()\n",
    "sess = tf.Session()\n",
    "test = Image.fromarray(np.zeros((200, 300, 3), dtype=np.uint8)).tobytes('jpeg','RGB')\n",
    "next_to_last_tensor = sess.graph.get_tensor_by_name('pool_3:0')\n",
    "predictions = sess.run(next_to_last_tensor,{'DecodeJpeg/contents:0':test})\n",
    "predictions"
   ]
  },
  {
   "cell_type": "code",
   "execution_count": 32,
   "metadata": {},
   "outputs": [
    {
     "name": "stdout",
     "output_type": "stream",
     "text": [
      "[[[[ 0.9087944   0.          0.04996346 ...,  0.42032564  0.04699313\n",
      "     0.14475003]]]]\n",
      "Wall time: 273 ms\n"
     ]
    }
   ],
   "source": [
    "%%time\n",
    "print(sess.run(next_to_last_tensor,{'DecodeJpeg/contents:0':test}))\n"
   ]
  },
  {
   "cell_type": "markdown",
   "metadata": {},
   "source": [
    "## Extract Features of Dataset\n"
   ]
  },
  {
   "cell_type": "code",
   "execution_count": 48,
   "metadata": {},
   "outputs": [
    {
     "name": "stdout",
     "output_type": "stream",
     "text": [
      "Wall time: 4min 7s\n"
     ]
    }
   ],
   "source": [
    "%%time\n",
    "features,labels= extract_features(list_images)"
   ]
  },
  {
   "cell_type": "code",
   "execution_count": 49,
   "metadata": {
    "scrolled": true
   },
   "outputs": [
    {
     "name": "stdout",
     "output_type": "stream",
     "text": [
      "(990, 2048)\n",
      "[ 0.56384283  0.07290962  0.94232893  0.281748    0.08541837  0.08482139\n",
      "  0.40826124  0.46673113  0.3121967   0.6281423 ]\n",
      "['Buch', 'Buch', 'Buch', 'Buch', 'Buch', 'Buch', 'Buch', 'Buch', 'Buch', 'Buch', 'Buch', 'Buch', 'Buch', 'Buch', 'Buch', 'Buch', 'Buch', 'Buch', 'Buch', 'Buch', 'Buch', 'Buch', 'Buch', 'Buch', 'Buch', 'Buch', 'Buch', 'Buch', 'Buch', 'Buch', 'Buch', 'Buch', 'Buch', 'Buch', 'Buch', 'Buch', 'Buch', 'Buch', 'Buch', 'Buch', 'Buch', 'Buch', 'Buch', 'Buch', 'Buch', 'Buch', 'Buch', 'Buch', 'Buch', 'Buch', 'Buch', 'Buch', 'Buch', 'Buch', 'Buch', 'FernbedienungA', 'FernbedienungA', 'FernbedienungA', 'FernbedienungA', 'FernbedienungA', 'FernbedienungA', 'FernbedienungA', 'FernbedienungA', 'FernbedienungA', 'FernbedienungA', 'FernbedienungA', 'FernbedienungA', 'FernbedienungA', 'FernbedienungA', 'FernbedienungA', 'FernbedienungA', 'FernbedienungA', 'FernbedienungA', 'FernbedienungA', 'FernbedienungA', 'FernbedienungA', 'FernbedienungA', 'FernbedienungA', 'FernbedienungA', 'FernbedienungA', 'FernbedienungA', 'FernbedienungA', 'FernbedienungA', 'FernbedienungA', 'FernbedienungA', 'FernbedienungA', 'FernbedienungA', 'FernbedienungA', 'FernbedienungA', 'FernbedienungA', 'FernbedienungA', 'FernbedienungA', 'FernbedienungA', 'FernbedienungA', 'FernbedienungA', 'FernbedienungA', 'FernbedienungA', 'FernbedienungA', 'FernbedienungA', 'FernbedienungA', 'FernbedienungA', 'FernbedienungA', 'FernbedienungA', 'FernbedienungA', 'FernbedienungA', 'FernbedienungA', 'FernbedienungA', 'FernbedienungA', 'FernbedienungA', 'FernbedienungA', 'FernbedienungB', 'FernbedienungB', 'FernbedienungB', 'FernbedienungB', 'FernbedienungB', 'FernbedienungB', 'FernbedienungB', 'FernbedienungB', 'FernbedienungB', 'FernbedienungB', 'FernbedienungB', 'FernbedienungB', 'FernbedienungB', 'FernbedienungB', 'FernbedienungB', 'FernbedienungB', 'FernbedienungB', 'FernbedienungB', 'FernbedienungB', 'FernbedienungB', 'FernbedienungB', 'FernbedienungB', 'FernbedienungB', 'FernbedienungB', 'FernbedienungB', 'FernbedienungB', 'FernbedienungB', 'FernbedienungB', 'FernbedienungB', 'FernbedienungB', 'FernbedienungB', 'FernbedienungB', 'FernbedienungB', 'FernbedienungB', 'FernbedienungB', 'FernbedienungB', 'FernbedienungB', 'FernbedienungB', 'FernbedienungB', 'FernbedienungB', 'FernbedienungB', 'FernbedienungB', 'FernbedienungB', 'FernbedienungB', 'FernbedienungB', 'FernbedienungB', 'FernbedienungB', 'FernbedienungB', 'FernbedienungB', 'FernbedienungB', 'FernbedienungB', 'FernbedienungB', 'FernbedienungB', 'FernbedienungB', 'FernbedienungB', 'Flasche', 'Flasche', 'Flasche', 'Flasche', 'Flasche', 'Flasche', 'Flasche', 'Flasche', 'Flasche', 'Flasche', 'Flasche', 'Flasche', 'Flasche', 'Flasche', 'Flasche', 'Flasche', 'Flasche', 'Flasche', 'Flasche', 'Flasche', 'Flasche', 'Flasche', 'Flasche', 'Flasche', 'Flasche', 'Flasche', 'Flasche', 'Flasche', 'Flasche', 'Flasche', 'Flasche', 'Flasche', 'Flasche', 'Flasche', 'Flasche', 'Flasche', 'Flasche', 'Flasche', 'Flasche', 'Flasche', 'Flasche', 'Flasche', 'Flasche', 'Flasche', 'Flasche', 'Flasche', 'Flasche', 'Flasche', 'Flasche', 'Flasche', 'Flasche', 'Flasche', 'Flasche', 'Flasche', 'Flasche', 'Huetchen', 'Huetchen', 'Huetchen', 'Huetchen', 'Huetchen', 'Huetchen', 'Huetchen', 'Huetchen', 'Huetchen', 'Huetchen', 'Huetchen', 'Huetchen', 'Huetchen', 'Huetchen', 'Huetchen', 'Huetchen', 'Huetchen', 'Huetchen', 'Huetchen', 'Huetchen', 'Huetchen', 'Huetchen', 'Huetchen', 'Huetchen', 'Huetchen', 'Huetchen', 'Huetchen', 'Huetchen', 'Huetchen', 'Huetchen', 'Huetchen', 'Huetchen', 'Huetchen', 'Huetchen', 'Huetchen', 'Huetchen', 'Huetchen', 'Huetchen', 'Huetchen', 'Huetchen', 'Huetchen', 'Huetchen', 'Huetchen', 'Huetchen', 'Huetchen', 'Huetchen', 'Huetchen', 'Huetchen', 'Huetchen', 'Huetchen', 'Huetchen', 'Huetchen', 'Huetchen', 'Huetchen', 'Huetchen', 'Meterstab', 'Meterstab', 'Meterstab', 'Meterstab', 'Meterstab', 'Meterstab', 'Meterstab', 'Meterstab', 'Meterstab', 'Meterstab', 'Meterstab', 'Meterstab', 'Meterstab', 'Meterstab', 'Meterstab', 'Meterstab', 'Meterstab', 'Meterstab', 'Meterstab', 'Meterstab', 'Meterstab', 'Meterstab', 'Meterstab', 'Meterstab', 'Meterstab', 'Meterstab', 'Meterstab', 'Meterstab', 'Meterstab', 'Meterstab', 'Meterstab', 'Meterstab', 'Meterstab', 'Meterstab', 'Meterstab', 'Meterstab', 'Meterstab', 'Meterstab', 'Meterstab', 'Meterstab', 'Meterstab', 'Meterstab', 'Meterstab', 'Meterstab', 'Meterstab', 'Meterstab', 'Meterstab', 'Meterstab', 'Meterstab', 'Meterstab', 'Meterstab', 'Meterstab', 'Meterstab', 'Meterstab', 'Meterstab', 'PumpeGeh', 'PumpeGeh', 'PumpeGeh', 'PumpeGeh', 'PumpeGeh', 'PumpeGeh', 'PumpeGeh', 'PumpeGeh', 'PumpeGeh', 'PumpeGeh', 'PumpeGeh', 'PumpeGeh', 'PumpeGeh', 'PumpeGeh', 'PumpeGeh', 'PumpeGeh', 'PumpeGeh', 'PumpeGeh', 'PumpeGeh', 'PumpeGeh', 'PumpeGeh', 'PumpeGeh', 'PumpeGeh', 'PumpeGeh', 'PumpeGeh', 'PumpeGeh', 'PumpeGeh', 'PumpeGeh', 'PumpeGeh', 'PumpeGeh', 'PumpeGeh', 'PumpeGeh', 'PumpeGeh', 'PumpeGeh', 'PumpeGeh', 'PumpeGeh', 'PumpeGeh', 'PumpeGeh', 'PumpeGeh', 'PumpeGeh', 'PumpeGeh', 'PumpeGeh', 'PumpeGeh', 'PumpeGeh', 'PumpeGeh', 'PumpeGeh', 'PumpeGeh', 'PumpeGeh', 'PumpeGeh', 'PumpeGeh', 'PumpeGeh', 'PumpeGeh', 'PumpeGeh', 'PumpeGeh', 'PumpeGeh', 'PumpeZ1', 'PumpeZ1', 'PumpeZ1', 'PumpeZ1', 'PumpeZ1', 'PumpeZ1', 'PumpeZ1', 'PumpeZ1', 'PumpeZ1', 'PumpeZ1', 'PumpeZ1', 'PumpeZ1', 'PumpeZ1', 'PumpeZ1', 'PumpeZ1', 'PumpeZ1', 'PumpeZ1', 'PumpeZ1', 'PumpeZ1', 'PumpeZ1', 'PumpeZ1', 'PumpeZ1', 'PumpeZ1', 'PumpeZ1', 'PumpeZ1', 'PumpeZ1', 'PumpeZ1', 'PumpeZ1', 'PumpeZ1', 'PumpeZ1', 'PumpeZ1', 'PumpeZ1', 'PumpeZ1', 'PumpeZ1', 'PumpeZ1', 'PumpeZ1', 'PumpeZ1', 'PumpeZ1', 'PumpeZ1', 'PumpeZ1', 'PumpeZ1', 'PumpeZ1', 'PumpeZ1', 'PumpeZ1', 'PumpeZ1', 'PumpeZ1', 'PumpeZ1', 'PumpeZ1', 'PumpeZ1', 'PumpeZ1', 'PumpeZ1', 'PumpeZ1', 'PumpeZ1', 'PumpeZ1', 'PumpeZ1', 'PumpeZ2D', 'PumpeZ2D', 'PumpeZ2D', 'PumpeZ2D', 'PumpeZ2D', 'PumpeZ2D', 'PumpeZ2D', 'PumpeZ2D', 'PumpeZ2D', 'PumpeZ2D', 'PumpeZ2D', 'PumpeZ2D', 'PumpeZ2D', 'PumpeZ2D', 'PumpeZ2D', 'PumpeZ2D', 'PumpeZ2D', 'PumpeZ2D', 'PumpeZ2D', 'PumpeZ2D', 'PumpeZ2D', 'PumpeZ2D', 'PumpeZ2D', 'PumpeZ2D', 'PumpeZ2D', 'PumpeZ2D', 'PumpeZ2D', 'PumpeZ2D', 'PumpeZ2D', 'PumpeZ2D', 'PumpeZ2D', 'PumpeZ2D', 'PumpeZ2D', 'PumpeZ2D', 'PumpeZ2D', 'PumpeZ2D', 'PumpeZ2D', 'PumpeZ2D', 'PumpeZ2D', 'PumpeZ2D', 'PumpeZ2D', 'PumpeZ2D', 'PumpeZ2D', 'PumpeZ2D', 'PumpeZ2D', 'PumpeZ2D', 'PumpeZ2D', 'PumpeZ2D', 'PumpeZ2D', 'PumpeZ2D', 'PumpeZ2D', 'PumpeZ2D', 'PumpeZ2D', 'PumpeZ2D', 'PumpeZ2D', 'PumpeZ2D', 'PumpeZ2D', 'PumpeZ2D', 'PumpeZ2D', 'PumpeZ2D', 'PumpeZ2D', 'PumpeZ2D', 'PumpeZ2D', 'PumpeZ2D', 'PumpeZ2D', 'PumpeZ2D', 'PumpeZ2D', 'PumpeZ2D', 'PumpeZ2D', 'PumpeZ2D', 'PumpeZ2D', 'PumpeZ2D', 'PumpeZ2D', 'PumpeZ2D', 'PumpeZ2D', 'PumpeZ2D', 'PumpeZ2D', 'PumpeZ2D', 'PumpeZ2D', 'PumpeZ2D', 'PumpeZ2D', 'PumpeZ2D', 'PumpeZ2D', 'PumpeZ2D', 'PumpeZ2D', 'PumpeZ2D', 'PumpeZ2D', 'PumpeZ2D', 'PumpeZ2D', 'PumpeZ2D', 'PumpeZ2D', 'PumpeZ2D', 'PumpeZ2D', 'PumpeZ2D', 'PumpeZ2D', 'PumpeZ2D', 'PumpeZ2D', 'PumpeZ2D', 'PumpeZ2D', 'PumpeZ2D', 'PumpeZ2D', 'PumpeZ2D', 'PumpeZ2D', 'PumpeZ2D', 'PumpeZ2D', 'PumpeZ2D', 'PumpeZ2D', 'PumpeZ2D', 'PumpeZ2D', 'PumpeZ2D', 'PumpeZ2', 'PumpeZ2', 'PumpeZ2', 'PumpeZ2', 'PumpeZ2', 'PumpeZ2', 'PumpeZ2', 'PumpeZ2', 'PumpeZ2', 'PumpeZ2', 'PumpeZ2', 'PumpeZ2', 'PumpeZ2', 'PumpeZ2', 'PumpeZ2', 'PumpeZ2', 'PumpeZ2', 'PumpeZ2', 'PumpeZ2', 'PumpeZ2', 'PumpeZ2', 'PumpeZ2', 'PumpeZ2', 'PumpeZ2', 'PumpeZ2', 'PumpeZ2', 'PumpeZ2', 'PumpeZ2', 'PumpeZ2', 'PumpeZ2', 'PumpeZ2', 'PumpeZ2', 'PumpeZ2', 'PumpeZ2', 'PumpeZ2', 'PumpeZ2', 'PumpeZ2', 'PumpeZ2', 'PumpeZ2', 'PumpeZ2', 'PumpeZ2', 'PumpeZ2', 'PumpeZ2', 'PumpeZ2', 'PumpeZ2', 'PumpeZ2', 'PumpeZ2', 'PumpeZ2', 'PumpeZ2', 'PumpeZ2', 'PumpeZ2', 'PumpeZ2', 'PumpeZ2', 'PumpeZ2', 'PumpeZ2', 'PumpeZ2', 'PumpeZ2', 'PumpeZ2', 'PumpeZ2', 'PumpeZ2', 'PumpeZ2', 'PumpeZ2', 'PumpeZ2', 'PumpeZ2', 'PumpeZ2', 'PumpeZ2', 'PumpeZ2', 'PumpeZ2', 'PumpeZ2', 'PumpeZ2', 'PumpeZ2', 'PumpeZ2', 'PumpeZ2', 'PumpeZ2', 'PumpeZ2', 'PumpeZ2', 'PumpeZ2', 'PumpeZ2', 'PumpeZ2', 'PumpeZ2', 'PumpeZ2', 'PumpeZ2', 'PumpeZ2', 'PumpeZ2', 'PumpeZ2', 'PumpeZ2', 'PumpeZ2', 'PumpeZ2', 'PumpeZ2', 'PumpeZ2', 'PumpeZ2', 'PumpeZ2', 'PumpeZ2', 'PumpeZ2', 'PumpeZ2', 'PumpeZ2', 'PumpeZ2', 'PumpeZ2', 'PumpeZ2', 'PumpeZ2', 'PumpeZ2', 'PumpeZ2', 'PumpeZ2', 'PumpeZ2', 'PumpeZ2', 'PumpeZ2', 'PumpeZ2', 'PumpeZ2', 'PumpeZ2', 'PumpeZ2', 'Pumpe', 'Pumpe', 'Pumpe', 'Pumpe', 'Pumpe', 'Pumpe', 'Pumpe', 'Pumpe', 'Pumpe', 'Pumpe', 'Pumpe', 'Pumpe', 'Pumpe', 'Pumpe', 'Pumpe', 'Pumpe', 'Pumpe', 'Pumpe', 'Pumpe', 'Pumpe', 'Pumpe', 'Pumpe', 'Pumpe', 'Pumpe', 'Pumpe', 'Pumpe', 'Pumpe', 'Pumpe', 'Pumpe', 'Pumpe', 'Pumpe', 'Pumpe', 'Pumpe', 'Pumpe', 'Pumpe', 'Pumpe', 'Pumpe', 'Pumpe', 'Pumpe', 'Pumpe', 'Pumpe', 'Pumpe', 'Pumpe', 'Pumpe', 'Pumpe', 'Pumpe', 'Pumpe', 'Pumpe', 'Pumpe', 'Pumpe', 'Pumpe', 'Pumpe', 'Pumpe', 'Pumpe', 'Pumpe', 'Schutzschalter', 'Schutzschalter', 'Schutzschalter', 'Schutzschalter', 'Schutzschalter', 'Schutzschalter', 'Schutzschalter', 'Schutzschalter', 'Schutzschalter', 'Schutzschalter', 'Schutzschalter', 'Schutzschalter', 'Schutzschalter', 'Schutzschalter', 'Schutzschalter', 'Schutzschalter', 'Schutzschalter', 'Schutzschalter', 'Schutzschalter', 'Schutzschalter', 'Schutzschalter', 'Schutzschalter', 'Schutzschalter', 'Schutzschalter', 'Schutzschalter', 'Schutzschalter', 'Schutzschalter', 'Schutzschalter', 'Schutzschalter', 'Schutzschalter', 'Schutzschalter', 'Schutzschalter', 'Schutzschalter', 'Schutzschalter', 'Schutzschalter', 'Schutzschalter', 'Schutzschalter', 'Schutzschalter', 'Schutzschalter', 'Schutzschalter', 'Schutzschalter', 'Schutzschalter', 'Schutzschalter', 'Schutzschalter', 'Schutzschalter', 'Schutzschalter', 'Schutzschalter', 'Schutzschalter', 'Schutzschalter', 'Schutzschalter', 'Schutzschalter', 'Schutzschalter', 'Schutzschalter', 'Schutzschalter', 'Schutzschalter', 'Tasse', 'Tasse', 'Tasse', 'Tasse', 'Tasse', 'Tasse', 'Tasse', 'Tasse', 'Tasse', 'Tasse', 'Tasse', 'Tasse', 'Tasse', 'Tasse', 'Tasse', 'Tasse', 'Tasse', 'Tasse', 'Tasse', 'Tasse', 'Tasse', 'Tasse', 'Tasse', 'Tasse', 'Tasse', 'Tasse', 'Tasse', 'Tasse', 'Tasse', 'Tasse', 'Tasse', 'Tasse', 'Tasse', 'Tasse', 'Tasse', 'Tasse', 'Tasse', 'Tasse', 'Tasse', 'Tasse', 'Tasse', 'Tasse', 'Tasse', 'Tasse', 'Tasse', 'Tasse', 'Tasse', 'Tasse', 'Tasse', 'Tasse', 'Tasse', 'Tasse', 'Tasse', 'Tasse', 'Tasse', 'TischB', 'TischB', 'TischB', 'TischB', 'TischB', 'TischB', 'TischB', 'TischB', 'TischB', 'TischB', 'TischB', 'TischB', 'TischB', 'TischB', 'TischB', 'TischB', 'TischB', 'TischB', 'TischB', 'TischB', 'TischB', 'TischB', 'TischB', 'TischB', 'TischB', 'TischB', 'TischB', 'TischB', 'TischB', 'TischB', 'TischB', 'TischB', 'TischB', 'TischB', 'TischB', 'TischB', 'TischB', 'TischB', 'TischB', 'TischB', 'TischB', 'TischB', 'TischB', 'TischB', 'TischB', 'TischB', 'TischB', 'TischB', 'TischB', 'TischB', 'TischB', 'TischB', 'TischB', 'TischB', 'TischB', 'TischC', 'TischC', 'TischC', 'TischC', 'TischC', 'TischC', 'TischC', 'TischC', 'TischC', 'TischC', 'TischC', 'TischC', 'TischC', 'TischC', 'TischC', 'TischC', 'TischC', 'TischC', 'TischC', 'TischC', 'TischC', 'TischC', 'TischC', 'TischC', 'TischC', 'TischC', 'TischC', 'TischC', 'TischC', 'TischC', 'TischC', 'TischC', 'TischC', 'TischC', 'TischC', 'TischC', 'TischC', 'TischC', 'TischC', 'TischC', 'TischC', 'TischC', 'TischC', 'TischC', 'TischC', 'TischC', 'TischC', 'TischC', 'TischC', 'TischC', 'TischC', 'TischC', 'TischC', 'TischC', 'TischC', 'Tisch', 'Tisch', 'Tisch', 'Tisch', 'Tisch', 'Tisch', 'Tisch', 'Tisch', 'Tisch', 'Tisch', 'Tisch', 'Tisch', 'Tisch', 'Tisch', 'Tisch', 'Tisch', 'Tisch', 'Tisch', 'Tisch', 'Tisch', 'Tisch', 'Tisch', 'Tisch', 'Tisch', 'Tisch', 'Tisch', 'Tisch', 'Tisch', 'Tisch', 'Tisch', 'Tisch', 'Tisch', 'Tisch', 'Tisch', 'Tisch', 'Tisch', 'Tisch', 'Tisch', 'Tisch', 'Tisch', 'Tisch', 'Tisch', 'Tisch', 'Tisch', 'Tisch', 'Tisch', 'Tisch', 'Tisch', 'Tisch', 'Tisch', 'Tisch', 'Tisch', 'Tisch', 'Tisch', 'Tisch']\n"
     ]
    }
   ],
   "source": [
    "print(features.shape)\n",
    "print(features[4,0:10])\n",
    "print(labels)"
   ]
  },
  {
   "cell_type": "markdown",
   "metadata": {},
   "source": [
    "### Save Data"
   ]
  },
  {
   "cell_type": "code",
   "execution_count": 51,
   "metadata": {
    "collapsed": true
   },
   "outputs": [],
   "source": [
    "#pickle.dump(features, open('features', 'wb'))\n",
    "#pickle.dump(labels, open('labels', 'wb'))\n",
    "\n",
    "\n",
    "with open('features.pickle', 'w+b') as fp:\n",
    "            p = pickle.dump(features, fp)\n",
    "with open('labels.pickle', 'w+b') as fp:\n",
    "            p = pickle.dump(labels, fp)"
   ]
  },
  {
   "cell_type": "code",
   "execution_count": 53,
   "metadata": {
    "collapsed": true
   },
   "outputs": [
    {
     "name": "stdout",
     "output_type": "stream",
     "text": [
      "['Schutzschalter', 'Schutzschalter', 'Schutzschalter', 'Schutzschalter']\n"
     ]
    },
    {
     "data": {
      "text/plain": [
       "array([ 0.56384283,  0.07290962,  0.94232893,  0.281748  ,  0.08541837,\n",
       "        0.08482139,  0.40826124,  0.46673113,  0.3121967 ,  0.6281423 ])"
      ]
     },
     "execution_count": 53,
     "metadata": {},
     "output_type": "execute_result"
    }
   ],
   "source": [
    "features = pickle.load(open('features.pickle', 'rb'))\n",
    "labels = pickle.load(open('labels.pickle', 'rb'))\n",
    "print(labels)\n",
    "features[4,0:10]"
   ]
  },
  {
   "cell_type": "markdown",
   "metadata": {},
   "source": [
    "## Train SVM"
   ]
  },
  {
   "cell_type": "code",
   "execution_count": 55,
   "metadata": {
    "collapsed": true
   },
   "outputs": [],
   "source": [
    "X_train, X_test, y_train, y_test = cross_validation.train_test_split(features, labels, test_size=0.01, random_state=42)"
   ]
  },
  {
   "cell_type": "code",
   "execution_count": 56,
   "metadata": {},
   "outputs": [
    {
     "name": "stdout",
     "output_type": "stream",
     "text": [
      "0.209388270974\n",
      "0.172388523817\n",
      "0.348523527384\n",
      "0.171874806285\n",
      "0.0301100052893\n",
      "0.113612040877\n",
      "0.275214642286\n",
      "1.46872580051\n",
      "0.139613524079\n",
      "0.418993294239\n",
      "0.0577145069838\n",
     ]
    }
   ],
   "source": [
    "for el in X_train[5,:]:\n",
    "    if el != 0 :\n",
    "        print(el)"
   ]
  },
  {
   "cell_type": "code",
   "execution_count": 57,
   "metadata": {},
   "outputs": [
    {
     "name": "stdout",
     "output_type": "stream",
     "text": [
      "Wall time: 2.72 s\n"
     ]
    }
   ],
   "source": [
    "%%time\n",
    "clf = LinearSVC(C=1.0, loss='squared_hinge', penalty='l2',multi_class='ovr')\n",
    "clf.fit(X_train, y_train)\n"
   ]
  },
  {
   "cell_type": "code",
   "execution_count": 58,
   "metadata": {},
   "outputs": [
    {
     "data": {
      "text/plain": [
       "(10, 2048)"
      ]
     },
     "execution_count": 58,
     "metadata": {},
     "output_type": "execute_result"
    }
   ],
   "source": [
    "X_test.shape"
   ]
  },
  {
   "cell_type": "markdown",
   "metadata": {},
   "source": [
    "### Predict Test-set"
   ]
  },
  {
   "cell_type": "code",
   "execution_count": 59,
   "metadata": {},
   "outputs": [
    {
     "name": "stdout",
     "output_type": "stream",
     "text": [
      "Wall time: 0 ns\n"
     ]
    }
   ],
   "source": [
    "%%time\n",
    "y_pred = clf.predict(X_test)"
   ]
  },
  {
   "cell_type": "markdown",
   "metadata": {},
   "source": [
    "### Create Confusion Matrix"
   ]
  },
  {
   "cell_type": "code",
   "execution_count": 60,
   "metadata": {
    "collapsed": true,
    "scrolled": true
   },
   "outputs": [],
   "source": [
    "def plot_confusion_matrix(y_true,y_pred):\n",
    "    cm_array = confusion_matrix(y_true,y_pred)\n",
    "    true_labels = np.unique(y_true)\n",
    "    pred_labels = np.unique(y_pred)\n",
    "    plt.imshow(cm_array[:-1,:-1], interpolation='nearest', cmap=plt.cm.Blues)\n",
    "    plt.title(\"Confusion matrix\", fontsize=16)\n",
    "    cbar = plt.colorbar(fraction=0.046, pad=0.04)\n",
    "    cbar.set_label('Number of images', rotation=270, labelpad=30, fontsize=12)\n",
    "    xtick_marks = np.arange(len(true_labels))\n",
    "    ytick_marks = np.arange(len(pred_labels))\n",
    "    plt.xticks(xtick_marks, true_labels, rotation=90)\n",
    "    plt.yticks(ytick_marks,pred_labels)\n",
    "    plt.tight_layout()\n",
    "    plt.ylabel('True label', fontsize=14)\n",
    "    plt.xlabel('Predicted label', fontsize=14)\n",
    "    fig_size = plt.rcParams[\"figure.figsize\"]\n",
    "    fig_size[0] = 12\n",
    "    fig_size[1] = 12\n",
    "    plt.rcParams[\"figure.figsize\"] = fig_size"
   ]
  },
  {
   "cell_type": "code",
   "execution_count": 61,
   "metadata": {
    "scrolled": true
   },
   "outputs": [
    {
     "name": "stdout",
     "output_type": "stream",
     "text": [
      "Accuracy: 100.0%\n"
     ]
    },
    {
     "data": {
      "image/png": "iVBORw0KGgoAAAANSUhEUgAAAWQAAAEqCAYAAAAiSSo8AAAABHNCSVQICAgIfAhkiAAAAAlwSFlz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\nIAjahFDIQRAEbcL/A1naJpv/RZv5AAAAAElFTkSuQmCC\n",
      "text/plain": [
       "<matplotlib.figure.Figure at 0x38d26d68>"
      ]
     },
     "metadata": {},
     "output_type": "display_data"
    }
   ],
   "source": [
    "print(\"Accuracy: {0:0.1f}%\".format(accuracy_score(y_test,y_pred)*100))\n",
    "plot_confusion_matrix(y_test,y_pred)"
   ]
  }
 ],
 "metadata": {
  "kernelspec": {
   "display_name": "Inception",
   "language": "python",
   "name": "inception"
  },
  "language_info": {
   "codemirror_mode": {
    "name": "ipython",
    "version": 3
   },
   "file_extension": ".py",
   "mimetype": "text/x-python",
   "name": "python",
   "nbconvert_exporter": "python",
   "pygments_lexer": "ipython3",
   "version": "3.6.3"
  },
  "toc": {
   "colors": {
    "hover_highlight": "#DAA520",
    "navigate_num": "#000000",
    "navigate_text": "#333333",
    "running_highlight": "#FF0000",
    "selected_highlight": "#FFD700",
    "sidebar_border": "#EEEEEE",
    "wrapper_background": "#FFFFFF"
   },
   "moveMenuLeft": true,
   "nav_menu": {
    "height": "12px",
    "width": "252px"
   },
   "navigate_menu": true,
   "number_sections": true,
   "sideBar": true,
   "threshold": 4,
   "toc_cell": true,
   "toc_section_display": "block",
   "toc_window_display": false,
   "widenNotebook": false
  },
  "varInspector": {
   "cols": {
    "lenName": 16,
    "lenType": 16,
    "lenVar": 40
   },
   "kernels_config": {
    "python": {
     "delete_cmd_postfix": "",
     "delete_cmd_prefix": "del ",
     "library": "var_list.py",
     "varRefreshCmd": "print(var_dic_list())"
    },
    "r": {
     "delete_cmd_postfix": ") ",
     "delete_cmd_prefix": "rm(",
     "library": "var_list.r",
     "varRefreshCmd": "cat(var_dic_list()) "
    }
   },
   "types_to_exclude": [
    "module",
    "function",
    "builtin_function_or_method",
    "instance",
    "_Feature"
   ],
   "window_display": false
  }
 },
 "nbformat": 4,
 "nbformat_minor": 2
}
